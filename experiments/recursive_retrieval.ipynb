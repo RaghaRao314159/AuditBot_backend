{
 "cells": [
  {
   "cell_type": "code",
   "execution_count": 1,
   "metadata": {},
   "outputs": [],
   "source": [
    "%load_ext autoreload\n",
    "%autoreload 2\n",
    "\n",
    "# I HAVE USED A DIFFERENT ENVIRONMENT FOR THIS AS IT CONFLICTS WITH RAG MODULES"
   ]
  },
  {
   "cell_type": "code",
   "execution_count": 2,
   "metadata": {},
   "outputs": [
    {
     "name": "stderr",
     "output_type": "stream",
     "text": [
      "/Users/ragharao/opt/anaconda3/envs/recret/lib/python3.10/site-packages/sentence_transformers/cross_encoder/CrossEncoder.py:11: TqdmWarning: IProgress not found. Please update jupyter and ipywidgets. See https://ipywidgets.readthedocs.io/en/stable/user_install.html\n",
      "  from tqdm.autonotebook import tqdm, trange\n"
     ]
    }
   ],
   "source": [
    "import sys\n",
    "import os\n",
    "\n",
    "# Add the parent directory (Auditbot_backend) to the system path\n",
    "sys.path.append(\n",
    "    os.path.abspath(\n",
    "        os.path.join(\n",
    "            os.path.dirname(f\"{os.getcwd()}/recursive_retrieval.ipynb\"),\n",
    "            '..'\n",
    "        )\n",
    "    )\n",
    ")\n",
    "\n",
    "# import custom modules\n",
    "from utils.preprocessing import *\n",
    "from utils.json_parser import *\n",
    "from utils.content_page_parser import *\n",
    "from utils.retriever import *\n",
    "from utils.custom_print import *\n",
    "from utils.prompt_engineering import *\n",
    "from utils.db_utils import *\n",
    "from utils.langsmith_trace import *\n",
    "from utils.initialisations import *\n",
    "from utils.llama_index_utils import *\n",
    "\n",
    "# constants\n",
    "yearly_data_path = \"../data/parsed_documents/yearly_data.json\"\n",
    "\n",
    "# models\n",
    "# llama-index supported model\n",
    "embed_model = llama_OpenAIEmbedding(\n",
    "    model=\"text-embedding-3-small\",\n",
    "    api_key=OPENAI_API_KEY\n",
    ")\n",
    "\n",
    "# chromadb supported model\n",
    "openai_ef = embedding_functions.OpenAIEmbeddingFunction(\n",
    "                api_key=OPENAI_API_KEY,\n",
    "                model_name=\"text-embedding-3-small\"\n",
    "            )"
   ]
  },
  {
   "cell_type": "code",
   "execution_count": 3,
   "metadata": {},
   "outputs": [],
   "source": [
    "# RAG input parameters =======================================================\n",
    "\n",
    "# query = \"extract finding on weakness in access controls from FY2018/19 to FY2020/21 AGO's report.\"\n",
    "question = \"extract finding on weakness in access controls from FY2018/19 to FY2020/21 AGO's report. Tabulate the output with row heading as Year of Report and details of findings.\"\n",
    "question2 = \"What are the findings pertaining to grant?\"\n",
    "\n",
    "# HYPERPARAMETERS ============================================================\n",
    "\n",
    "# preprocessing --------------------------------------------------------------\n",
    "\n",
    "# Chunk into sentences ('s') or paragraphs ('p')\n",
    "chunking='s' \n",
    "\n",
    "# Group smaller chunks into a bigger chunk\n",
    "grouping=1\n",
    "\n",
    "# control minimum chubk size\n",
    "min_chunk_size=100\n",
    "\n",
    "# vector store ---------------------------------------------------------------\n",
    "\n",
    "# add to data base in batches\n",
    "batch_size = 1000"
   ]
  },
  {
   "cell_type": "code",
   "execution_count": 4,
   "metadata": {},
   "outputs": [
    {
     "name": "stdout",
     "output_type": "stream",
     "text": [
      "2.591806173324585 seconds\n",
      "number of chunks: 9127\n"
     ]
    }
   ],
   "source": [
    "# RUN ONCE\n",
    "# generate all required data structures\n",
    "\n",
    "# generate chunks\n",
    "generate_chunks(DOCUMENT_DIR,\n",
    "                chunks_path,\n",
    "                chunk_pageNum_pairs_path,\n",
    "                s_p_pairs_path, \n",
    "                chunking, \n",
    "                grouping, \n",
    "                min_chunk_size,\n",
    "                DOC_IDENTIFIER)\n",
    "\n",
    "\n",
    "# generate inverted tree\n",
    "has_content_page = True\n",
    "generate_inverted_tree(chunk_pageNum_pairs_path, \n",
    "                       has_content_page, \n",
    "                       save_inverted_tree_path,\n",
    "                       tree_path)"
   ]
  },
  {
   "cell_type": "code",
   "execution_count": 5,
   "metadata": {},
   "outputs": [
    {
     "name": "stdout",
     "output_type": "stream",
     "text": [
      "Number of unique chunks: 8210\n",
      "s_p_pairs will be filled\n"
     ]
    }
   ],
   "source": [
    "# RUN ONCE\n",
    "# retrieve all required data structures\n",
    "\n",
    "# load tree\n",
    "inverted_tree = json_file_to_dict(save_inverted_tree_path)\n",
    "\n",
    "# load chunks from tree's keys\n",
    "chunks = list(inverted_tree.keys())\n",
    "print(\"Number of unique chunks:\", len(chunks))\n",
    "\n",
    "# load chunk_pageNum_pairs\n",
    "chunk_pageNum_pairs = json_file_to_dict(chunk_pageNum_pairs_path)\n",
    "\n",
    "# prepare metadata for general chromadb\n",
    "pre_metadata = list(inverted_tree.values())\n",
    "metadata = chroma_preprocess_metadata(pre_metadata)\n",
    "\n",
    "# prepare metadata for yearly chromadb\n",
    "years = chunk_pageNum_pairs.keys()\n",
    "\n",
    "generate_yearly_data(years, metadata, chunks, yearly_data_path)\n",
    "yearly_data = json_file_to_dict(yearly_data_path)\n",
    "\n",
    "# load sentence paragraph pairs\n",
    "if (chunking == 's' or chunking == 'f') and grouping == 1:\n",
    "    print(\"s_p_pairs will be filled\")\n",
    "    s_p_pairs = json_file_to_dict(s_p_pairs_path)\n",
    "else:\n",
    "    s_p_pairs = {}"
   ]
  },
  {
   "cell_type": "code",
   "execution_count": 6,
   "metadata": {},
   "outputs": [
    {
     "name": "stdout",
     "output_type": "stream",
     "text": [
      "number of embeddings in database: 8210\n",
      "\n",
      "2008_09 321 321\n",
      "number of embeddings in database: 321\n",
      "\n",
      "2020_21 898 898\n",
      "number of embeddings in database: 898\n",
      "\n",
      "2018_19 635 635\n",
      "number of embeddings in database: 635\n",
      "\n",
      "2011_12 549 549\n",
      "number of embeddings in database: 549\n",
      "\n",
      "2022_23 781 781\n",
      "number of embeddings in database: 781\n",
      "\n",
      "2013_14 485 485\n",
      "number of embeddings in database: 485\n",
      "\n",
      "2009_10 255 255\n",
      "number of embeddings in database: 255\n",
      "\n",
      "2015_16 442 442\n",
      "number of embeddings in database: 442\n",
      "\n",
      "2012_13 442 442\n",
      "number of embeddings in database: 442\n",
      "\n",
      "2021_22 744 744\n",
      "number of embeddings in database: 744\n",
      "\n",
      "2019_20 743 743\n",
      "number of embeddings in database: 743\n",
      "\n",
      "2010_11 335 335\n",
      "number of embeddings in database: 335\n",
      "\n",
      "2017_18 519 519\n",
      "number of embeddings in database: 519\n",
      "\n",
      "2016_17 436 436\n",
      "number of embeddings in database: 436\n",
      "\n",
      "2014_15 625 625\n",
      "number of embeddings in database: 625\n",
      "\n"
     ]
    }
   ],
   "source": [
    "# create general db\n",
    "client_dense = chromadb.PersistentClient(path=\"../data/db\",\n",
    "                                         settings = Settings(allow_reset=True))\n",
    "\n",
    "# chromadb all data\n",
    "collection = chroma_get_or_create_collection(client_dense, \n",
    "                                             name = \"audit\", \n",
    "                                             embedding_function = openai_ef, \n",
    "                                             reset = True)\n",
    "\n",
    "# fill db\n",
    "chroma_fill_db(collection, chunks, metadata, batch_size)\n",
    "print(\"number of embeddings in database:\",collection.count())\n",
    "print()\n",
    "\n",
    "# ---------------------------------------------------------------------------\n",
    "\n",
    "# chromadb yearly data\n",
    "for year in years:\n",
    "    year_chunks = yearly_data[year][\"chunks\"]\n",
    "    year_metadata = yearly_data[year][\"metadata\"]\n",
    "\n",
    "    print(year, len(year_metadata), len(year_chunks))\n",
    "\n",
    "    # chromadb's embedding function needs streaming\n",
    "    year_collection = chroma_get_or_create_collection(client_dense, \n",
    "                                    name = f\"audit_{year}\", \n",
    "                                    embedding_function = openai_ef, \n",
    "                                    reset = False)\n",
    "    \n",
    "    chroma_fill_db(year_collection, year_chunks, year_metadata, batch_size)\n",
    "    \n",
    "    print(\"number of embeddings in database:\",year_collection.count())\n",
    "    print()\n"
   ]
  },
  {
   "cell_type": "code",
   "execution_count": 7,
   "metadata": {},
   "outputs": [
    {
     "name": "stdout",
     "output_type": "stream",
     "text": [
      "number of embeddings in database: 321\n",
      "number of embeddings in database: 898\n",
      "number of embeddings in database: 635\n",
      "number of embeddings in database: 549\n",
      "number of embeddings in database: 781\n",
      "number of embeddings in database: 485\n",
      "number of embeddings in database: 255\n",
      "number of embeddings in database: 442\n",
      "number of embeddings in database: 442\n",
      "number of embeddings in database: 744\n",
      "number of embeddings in database: 743\n",
      "number of embeddings in database: 335\n",
      "number of embeddings in database: 519\n",
      "number of embeddings in database: 436\n",
      "number of embeddings in database: 625\n"
     ]
    }
   ],
   "source": [
    "# Build agents dictionary\n",
    "# Transferring from chromadb to llama index using inbuilt llama index functions\n",
    "agents = {}\n",
    "\n",
    "collection = chroma_get_or_create_collection(client_dense, \n",
    "                                             name = \"audit\", \n",
    "                                             embedding_function = openai_ef, \n",
    "                                             reset = False)\n",
    "\n",
    "agents[\"all years\"] = llama_get_agent(\n",
    "    db = collection, \n",
    "    embed_model = embed_model,\n",
    "    description = \"Useful for retrieving context from all years\",\n",
    "    openai_api_key = OPENAI_API_KEY)\n",
    "\n",
    "for year in years:\n",
    "    year_collection = chroma_get_or_create_collection(client_dense, \n",
    "                                                name = f\"audit_{year}\", \n",
    "                                                embedding_function = openai_ef, \n",
    "                                                reset = False)\n",
    "    \n",
    "    print(\"number of embeddings in database:\",year_collection.count())\n",
    "    \n",
    "    agents[year] = llama_get_agent(\n",
    "        db = year_collection, \n",
    "        embed_model = embed_model,\n",
    "        description = f\"Useful for retrieving specific context from {year}\",\n",
    "        openai_api_key = OPENAI_API_KEY)"
   ]
  },
  {
   "cell_type": "code",
   "execution_count": 8,
   "metadata": {},
   "outputs": [
    {
     "name": "stdout",
     "output_type": "stream",
     "text": [
      "number of embeddings in database: 321\n",
      "number of embeddings in database: 898\n",
      "number of embeddings in database: 635\n",
      "number of embeddings in database: 549\n",
      "number of embeddings in database: 781\n",
      "number of embeddings in database: 485\n",
      "number of embeddings in database: 255\n",
      "number of embeddings in database: 442\n",
      "number of embeddings in database: 442\n",
      "number of embeddings in database: 744\n",
      "number of embeddings in database: 743\n",
      "number of embeddings in database: 335\n",
      "number of embeddings in database: 519\n",
      "number of embeddings in database: 436\n",
      "number of embeddings in database: 625\n"
     ]
    }
   ],
   "source": [
    "# Build agents dictionary\n",
    "# build manually using TextNode and include metadata\n",
    "\n",
    "\n",
    "agents_manual = {}\n",
    "\n",
    "agents_manual[\"all years\"] = llama_get_agent_manual(\n",
    "    db = collection, \n",
    "    embed_model = embed_model,\n",
    "    description = \"Useful for retrieving context from all years\",\n",
    "    openai_api_key = OPENAI_API_KEY)\n",
    "\n",
    "for year in years:\n",
    "    year_collection = chroma_get_or_create_collection(client_dense, \n",
    "                                                name = f\"audit_{year}\", \n",
    "                                                embedding_function = openai_ef, \n",
    "                                                reset = False)\n",
    "    \n",
    "    print(\"number of embeddings in database:\",year_collection.count())\n",
    "    \n",
    "    agents_manual[year] = llama_get_agent_manual(\n",
    "        db = year_collection, \n",
    "        embed_model = embed_model,\n",
    "        description = f\"Useful for retrieving specific context from {year}\",\n",
    "        openai_api_key = OPENAI_API_KEY)"
   ]
  },
  {
   "cell_type": "code",
   "execution_count": 9,
   "metadata": {},
   "outputs": [
    {
     "name": "stdout",
     "output_type": "stream",
     "text": [
      "\u001b[1;3;38;2;11;159;203mRetrieval entering 2018_19: OpenAIAgent\n",
      "\u001b[0m\u001b[1;3;38;2;237;90;200mRetrieving from object OpenAIAgent with query extract finding on weakness in access controls from FY2018/19 to FY2020/21 AGO's report. Tabulate the output with row heading as Year of Report and details of findings.\n",
      "\u001b[0mAdded user message to memory: extract finding on weakness in access controls from FY2018/19 to FY2020/21 AGO's report. Tabulate the output with row heading as Year of Report and details of findings.\n",
      "=== Calling Function ===\n",
      "Calling function: vector_tool with args: {\"input\": \"weakness in access controls in AGO report FY2018/19\"}\n",
      "Got output: The weakness identified in the AGO report for the fiscal year 2018/19 pertains to the logging and review of privileged user activities within the Accountant-General's Department (AGD) of the Ministry of Finance.\n",
      "========================\n",
      "\n",
      "=== Calling Function ===\n",
      "Calling function: vector_tool with args: {\"input\": \"weakness in access controls in AGO report FY2019/20\"}\n",
      "Got output: The weakness in access controls in the AGO report for FY2019/20 pertains to the logging and review of privileged user activities in the Accountant-General’s Department (AGD) and the management of access rights in the Ministry of Defence (MINDEF)'s Enterprise Human Resource (E-HR) system.\n",
      "========================\n",
      "\n",
      "=== Calling Function ===\n",
      "Calling function: vector_tool with args: {\"input\": \"weakness in access controls in AGO report FY2020/21\"}\n",
      "Got output: The weakness in access controls in the AGO report for FY2020/21 is related to the logging and review of privileged user activities within the Accountant-General's Department (AGD) of the Ministry of Finance.\n",
      "========================\n",
      "\n",
      "\u001b[1;3;38;2;11;159;203mRetrieval entering 2019_20: OpenAIAgent\n",
      "\u001b[0m\u001b[1;3;38;2;237;90;200mRetrieving from object OpenAIAgent with query extract finding on weakness in access controls from FY2018/19 to FY2020/21 AGO's report. Tabulate the output with row heading as Year of Report and details of findings.\n",
      "\u001b[0mAdded user message to memory: extract finding on weakness in access controls from FY2018/19 to FY2020/21 AGO's report. Tabulate the output with row heading as Year of Report and details of findings.\n",
      "=== Calling Function ===\n",
      "Calling function: vector_tool with args: {\"input\": \"weakness in access controls from FY2018/19 AGO's report\"}\n",
      "Got output: The weakness in access controls from FY2018/19 AGO's report was identified in both the Ministry of Trade and Industry's Enterprise Singapore Board and the Ministry of Manpower's Workforce Singapore Agency. These weaknesses in controls increased the risk of unauthorized activities and changes not being detected.\n",
      "========================\n",
      "\n",
      "=== Calling Function ===\n",
      "Calling function: vector_tool with args: {\"input\": \"weakness in access controls from FY2019/20 AGO's report\"}\n",
      "Got output: The weakness in access controls identified in the FY2019/20 AGO's report increased the risk of unauthorized activities and changes not being detected.\n",
      "========================\n",
      "\n",
      "=== Calling Function ===\n",
      "Calling function: vector_tool with args: {\"input\": \"weakness in access controls from FY2020/21 AGO's report\"}\n",
      "Got output: The weakness in access controls from FY2020/21 AGO's report could potentially increase the risk of unauthorized activities and changes not being detected.\n",
      "========================\n",
      "\n"
     ]
    },
    {
     "data": {
      "text/markdown": [
       "Year of Report | Details of Findings  \n",
       "FY2018/19 | Weaknesses in access controls were identified in both the Ministry of Trade and Industry's Enterprise Singapore Board and the Ministry of Manpower's Workforce Singapore Agency. These weaknesses increased the risk of unauthorized activities and changes not being detected.  \n",
       "FY2019/20 | The identified weaknesses in access controls increased the risk of unauthorized activities and changes not being detected.  \n",
       "FY2020/21 | The weaknesses in access controls could potentially increase the risk of unauthorized activities and changes not being detected."
      ]
     },
     "metadata": {},
     "output_type": "display_data"
    }
   ],
   "source": [
    "# recursive retreival is wrong because it produses an llm output for every \n",
    "# chunk found. Then it puts those llm responses together and creates a final LLM response \n",
    "top_query_engine = get_top_level_retriever(agents, years, embed_model)\n",
    "\n",
    "response = top_query_engine.query(question)\n",
    "\n",
    "display_markdown(response.response, raw=True)"
   ]
  },
  {
   "cell_type": "code",
   "execution_count": 10,
   "metadata": {},
   "outputs": [
    {
     "name": "stdout",
     "output_type": "stream",
     "text": [
      "\u001b[1;3;38;2;11;159;203mRetrieval entering 2010_11: OpenAIAgent\n",
      "\u001b[0m\u001b[1;3;38;2;237;90;200mRetrieving from object OpenAIAgent with query What are the findings pertaining to grant?\n",
      "\u001b[0mAdded user message to memory: What are the findings pertaining to grant?\n",
      "=== Calling Function ===\n",
      "Calling function: vector_tool with args: {\"input\":\"findings pertaining to grant\"}\n",
      "Got output: The findings pertain to purchase commitments exceeding approved budgets, inappropriate use of term contracts, gross overcharging for materials, materials not delivered at the time of payment, delivered materials not meeting specifications, and possible falsification of documents provided as proof of delivery of goods and services.\n",
      "========================\n",
      "\n",
      "\u001b[1;3;38;2;11;159;203mRetrieval entering 2012_13: OpenAIAgent\n",
      "\u001b[0m\u001b[1;3;38;2;237;90;200mRetrieving from object OpenAIAgent with query What are the findings pertaining to grant?\n",
      "\u001b[0mAdded user message to memory: What are the findings pertaining to grant?\n",
      "=== Calling Function ===\n",
      "Calling function: vector_tool with args: {\"input\": \"findings pertaining to grant\"}\n",
      "Got output: The findings pertain to the disbursement of $46 million in grants for research and development projects under the initiative, as well as the irregularities in procurement related to the provision of claim processing and other services for grant schemes.\n",
      "========================\n",
      "\n"
     ]
    },
    {
     "data": {
      "text/markdown": [
       "The findings related to grants include instances of purchase commitments exceeding approved budgets, inappropriate use of term contracts, gross overcharging for materials, payments made for undelivered materials, delivered materials not meeting specifications, and possible falsification of documents."
      ]
     },
     "metadata": {},
     "output_type": "display_data"
    }
   ],
   "source": [
    "# should use Boston agent -> vector tool\n",
    "response2 = top_query_engine.query(question2)\n",
    "\n",
    "display_markdown(response2.response, raw=True)\n",
    "\n",
    "\n",
    "# \"This query engine does not support retrieve, use query directly\"\n",
    "# This means prompt engineering is not possible\n",
    "\n",
    "# this is wrong. Does not look though \"all years\" nodes!!!"
   ]
  },
  {
   "cell_type": "code",
   "execution_count": 11,
   "metadata": {},
   "outputs": [
    {
     "name": "stdout",
     "output_type": "stream",
     "text": [
      "\u001b[1;3;38;2;11;159;203mRetrieval entering 2018_19: OpenAIAgent\n",
      "\u001b[0m\u001b[1;3;38;2;237;90;200mRetrieving from object OpenAIAgent with query extract finding on weakness in access controls from FY2018/19 to FY2020/21 AGO's report. Tabulate the output with row heading as Year of Report and details of findings.\n",
      "\u001b[0mAdded user message to memory: extract finding on weakness in access controls from FY2018/19 to FY2020/21 AGO's report. Tabulate the output with row heading as Year of Report and details of findings.\n",
      "=== Calling Function ===\n",
      "Calling function: vector_tool with args: {\"input\": \"weakness in access controls in FY2018/19 AGO's report\"}\n",
      "Got output: The weakness in access controls in the FY2018/19 AGO's report was related to the logging and review of privileged user activities in the Accountant-General’s Department (AGD) within the Government accounting and financial system, NFS@Gov. This issue was also noted to be prevalent across various public sector entities audited by AGO in recent years, highlighting the ongoing need for improvement in IT controls.\n",
      "========================\n",
      "\n",
      "=== Calling Function ===\n",
      "Calling function: vector_tool with args: {\"input\": \"weakness in access controls in FY2019/20 AGO's report\"}\n",
      "Got output: The weakness in access controls in the FY2019/20 AGO's report was highlighted in the audit of controls over access rights granted to the Ministry of Defence (MINDEF)'s Enterprise Human Resource (E-HR) system.\n",
      "========================\n",
      "\n",
      "=== Calling Function ===\n",
      "Calling function: vector_tool with args: {\"input\": \"weakness in access controls in FY2020/21 AGO's report\"}\n",
      "Got output: The weakness in access controls in the FY2020/21 AGO's report could be related to issues identified in the logging and review of privileged user activities within the Accountant-General’s Department (AGD) or weaknesses in the management of access rights in the Ministry of Defence's Enterprise Human Resource (E-HR) system.\n",
      "========================\n",
      "\n",
      "\u001b[1;3;38;2;11;159;203mRetrieval entering 2019_20: OpenAIAgent\n",
      "\u001b[0m\u001b[1;3;38;2;237;90;200mRetrieving from object OpenAIAgent with query extract finding on weakness in access controls from FY2018/19 to FY2020/21 AGO's report. Tabulate the output with row heading as Year of Report and details of findings.\n",
      "\u001b[0mAdded user message to memory: extract finding on weakness in access controls from FY2018/19 to FY2020/21 AGO's report. Tabulate the output with row heading as Year of Report and details of findings.\n",
      "=== Calling Function ===\n",
      "Calling function: vector_tool with args: {\"input\": \"weakness in access controls from FY2018/19 AGO's report\"}\n",
      "Got output: The weakness in access controls from FY2018/19 AGO's report was identified in both the Ministry of Trade and Industry (Enterprise Singapore Board) and the Ministry of Manpower (Workforce Singapore Agency).\n",
      "========================\n",
      "\n",
      "=== Calling Function ===\n",
      "Calling function: vector_tool with args: {\"input\": \"weakness in access controls from FY2019/20 AGO's report\"}\n",
      "Got output: The weaknesses in access controls identified in the FY2019/20 AGO's report increased the risk of unauthorized activities and changes not being detected.\n",
      "========================\n",
      "\n",
      "=== Calling Function ===\n",
      "Calling function: vector_tool with args: {\"input\": \"weakness in access controls from FY2020/21 AGO's report\"}\n",
      "Got output: The weakness in access controls from FY2020/21 AGO's report could potentially increase the risk of unauthorized activities and changes not being detected.\n",
      "========================\n",
      "\n"
     ]
    },
    {
     "data": {
      "text/markdown": [
       "| Year of Report | Details of Findings |\n",
       "|----------------|---------------------|\n",
       "| FY2018/19      | Weaknesses in access controls were related to logging and review of privileged user activities in the Accountant-General’s Department (AGD) within the Government accounting and financial system, NFS@Gov. This issue was also noted to be prevalent across various public sector entities audited by AGO in recent years, highlighting the ongoing need for improvement in IT controls. Weaknesses in access controls were identified in both the Ministry of Trade and Industry (Enterprise Singapore Board) and the Ministry of Manpower (Workforce Singapore Agency). |\n",
       "| FY2019/20      | Weaknesses in access controls were highlighted in the audit of controls over access rights granted to the Ministry of Defence (MINDEF)'s Enterprise Human Resource (E-HR) system. Weaknesses in access controls increased the risk of unauthorized activities and changes not being detected. |\n",
       "| FY2020/21      | Weaknesses in access controls could be related to issues identified in the logging and review of privileged user activities within the Accountant-General’s Department (AGD) or weaknesses in the management of access rights in the Ministry of Defence's Enterprise Human Resource (E-HR) system. Weaknesses in access controls could potentially increase the risk of unauthorized activities and changes not being detected. |"
      ]
     },
     "metadata": {},
     "output_type": "display_data"
    }
   ],
   "source": [
    "# recursive retreival is wrong because it produses an llm output for every \n",
    "# chunk found. Then it puts those llm responses together and creates a final LLM response \n",
    "top_query_engine_manual = get_top_level_retriever(agents_manual, years, embed_model)\n",
    "\n",
    "response = top_query_engine_manual.query(question)\n",
    "\n",
    "display_markdown(response.response, raw=True)"
   ]
  },
  {
   "cell_type": "code",
   "execution_count": 12,
   "metadata": {},
   "outputs": [
    {
     "name": "stdout",
     "output_type": "stream",
     "text": [
      "\u001b[1;3;38;2;11;159;203mRetrieval entering 2010_11: OpenAIAgent\n",
      "\u001b[0m\u001b[1;3;38;2;237;90;200mRetrieving from object OpenAIAgent with query What are the findings pertaining to grant?\n",
      "\u001b[0mAdded user message to memory: What are the findings pertaining to grant?\n",
      "=== Calling Function ===\n",
      "Calling function: vector_tool with args: {\"input\": \"grant findings\"}\n",
      "Got output: The findings include purchase commitment exceeding approved budget, inappropriate use of term contracts, overcharging for materials, delayed delivery of materials, non-compliance with specifications for delivered materials, and potential falsification of documents related to goods and services delivery. Additionally, inaccurate or incomplete information was provided during three quotation exercises totaling $120,885.\n",
      "========================\n",
      "\n",
      "\u001b[1;3;38;2;11;159;203mRetrieval entering 2012_13: OpenAIAgent\n",
      "\u001b[0m\u001b[1;3;38;2;237;90;200mRetrieving from object OpenAIAgent with query What are the findings pertaining to grant?\n",
      "\u001b[0mAdded user message to memory: What are the findings pertaining to grant?\n",
      "=== Calling Function ===\n",
      "Calling function: vector_tool with args: {\"input\":\"findings pertaining to grant\"}\n",
      "Got output: The findings pertain to the disbursement of $46 million in grants for research and development projects, as well as the irregularities in procurement related to the provision of claim processing and other services for grant schemes.\n",
      "========================\n",
      "\n"
     ]
    },
    {
     "data": {
      "text/markdown": [
       "The findings related to the grant include instances of purchase commitments exceeding the approved budget, inappropriate use of term contracts, overcharging for materials, delayed delivery of materials, non-compliance with specifications, potential falsification of documents, and inaccurate or incomplete information provided during three quotation exercises totaling $120,885."
      ]
     },
     "metadata": {},
     "output_type": "display_data"
    }
   ],
   "source": [
    "# recursive retreival is wrong because it produses an llm output for every \n",
    "# chunk found. Then it puts those llm responses together and creates a final LLM response \n",
    "\n",
    "response = top_query_engine_manual.query(question2)\n",
    "\n",
    "display_markdown(response.response, raw=True)"
   ]
  }
 ],
 "metadata": {
  "kernelspec": {
   "display_name": "rag",
   "language": "python",
   "name": "python3"
  },
  "language_info": {
   "codemirror_mode": {
    "name": "ipython",
    "version": 3
   },
   "file_extension": ".py",
   "mimetype": "text/x-python",
   "name": "python",
   "nbconvert_exporter": "python",
   "pygments_lexer": "ipython3",
   "version": "3.10.14"
  }
 },
 "nbformat": 4,
 "nbformat_minor": 2
}
