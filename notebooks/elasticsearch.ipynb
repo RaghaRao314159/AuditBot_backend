{
 "cells": [
  {
   "cell_type": "code",
   "execution_count": 1,
   "metadata": {},
   "outputs": [],
   "source": [
    "import os\n",
    "import sys\n",
    "from elasticsearch import Elasticsearch\n",
    "\n",
    "# Add the parent directory (Auditbot_backend) to the system path\n",
    "sys.path.append(\n",
    "    os.path.abspath(\n",
    "        os.path.join(\n",
    "            os.path.dirname(f\"{os.getcwd()}/RAG_dev.ipynb\"),\n",
    "            '..'\n",
    "        )\n",
    "    )\n",
    ")\n",
    "\n",
    "# import constants\n",
    "from utils.initialisations import (PARSED_DOCUMENT_DIR, \n",
    "                                   save_inverted_tree_path,\n",
    "                                   HTTP_AUTH)\n",
    "\n",
    "# import custom helper functions\n",
    "from utils.json_parser import json_file_to_dict\n",
    "from utils.db_utils import elastic_reset\n"
   ]
  },
  {
   "cell_type": "code",
   "execution_count": 2,
   "metadata": {},
   "outputs": [],
   "source": [
    "# create client (hosted on docker)\n",
    "client = Elasticsearch(\n",
    "    \"http://localhost:9200\",\n",
    "    basic_auth=HTTP_AUTH\n",
    ")\n"
   ]
  },
  {
   "cell_type": "code",
   "execution_count": 3,
   "metadata": {},
   "outputs": [
    {
     "data": {
      "text/plain": [
       "{'name': '50cd72118574',\n",
       " 'cluster_name': 'docker-cluster',\n",
       " 'cluster_uuid': 'l-puMSQDTvqL7nQDfYreOg',\n",
       " 'version': {'number': '8.14.3',\n",
       "  'build_flavor': 'default',\n",
       "  'build_type': 'docker',\n",
       "  'build_hash': 'd55f984299e0e88dee72ebd8255f7ff130859ad0',\n",
       "  'build_date': '2024-07-07T22:04:49.882652950Z',\n",
       "  'build_snapshot': False,\n",
       "  'lucene_version': '9.10.0',\n",
       "  'minimum_wire_compatibility_version': '7.17.0',\n",
       "  'minimum_index_compatibility_version': '7.0.0'},\n",
       " 'tagline': 'You Know, for Search'}"
      ]
     },
     "execution_count": 3,
     "metadata": {},
     "output_type": "execute_result"
    }
   ],
   "source": [
    "client.info(http_auth=HTTP_AUTH)"
   ]
  },
  {
   "cell_type": "code",
   "execution_count": 4,
   "metadata": {},
   "outputs": [
    {
     "name": "stdout",
     "output_type": "stream",
     "text": [
      "Number of unique chunks: 8210\n"
     ]
    }
   ],
   "source": [
    "# retrieve all required data structures\n",
    "\n",
    "# load tree\n",
    "inverted_tree = json_file_to_dict(save_inverted_tree_path)\n",
    "\n",
    "# load chunks from tree's keys\n",
    "chunks = list(inverted_tree.keys())\n",
    "print(\"Number of unique chunks:\", len(chunks))"
   ]
  },
  {
   "cell_type": "code",
   "execution_count": 5,
   "metadata": {},
   "outputs": [],
   "source": [
    "# create index\n",
    "index_name = 'chromadb_documents'\n",
    "if not client.indices.exists(index=index_name, http_auth=HTTP_AUTH):\n",
    "    client.indices.create(index=index_name, http_auth=HTTP_AUTH)"
   ]
  },
  {
   "cell_type": "code",
   "execution_count": 6,
   "metadata": {},
   "outputs": [
    {
     "name": "stdout",
     "output_type": "stream",
     "text": [
      "reset index: chromadb_documents\n"
     ]
    }
   ],
   "source": [
    "# reset indices as we are starting the index from scratch.\n",
    "reset = True\n",
    "\n",
    "if reset: \n",
    "    elastic_reset(client, http_auth=HTTP_AUTH)"
   ]
  },
  {
   "cell_type": "code",
   "execution_count": 7,
   "metadata": {},
   "outputs": [],
   "source": [
    "# Index the documents\n",
    "for i, chunk in enumerate(chunks):\n",
    "    client.index(index=index_name, id=i, body={'text': chunk}, http_auth=HTTP_AUTH)"
   ]
  },
  {
   "cell_type": "code",
   "execution_count": 8,
   "metadata": {},
   "outputs": [
    {
     "name": "stdout",
     "output_type": "stream",
     "text": [
      "Documents indexed.\n",
      "idx: 0\n",
      "Score: 11.637025\n",
      "\n",
      "Document: Details of the lapses pertaining to the enforcement of SDL collections are in the \n",
      " \n",
      "following paragraphs\n",
      "------------------------------------------------------------------\n",
      "idx: 1\n",
      "Score: 10.4453335\n",
      "\n",
      "Document: Audit findings are conveyed by AGO to the ministries and statutory boards audited \n",
      "by way of “management letters”\n",
      "------------------------------------------------------------------\n",
      "idx: 2\n",
      "Score: 10.312286\n",
      "\n",
      "Document: Pertaining to the lack of checks on declarations by grant recipients, EDB \n",
      "explained that there were specific controls in place to ensure that grant recipients take \n",
      "ownership for accurate and credible reporting\n",
      "------------------------------------------------------------------\n",
      "idx: 3\n",
      "Score: 10.262637\n",
      "\n",
      "Document: Audit findings are conveyed to the Government ministries, statutory boards and other \n",
      "entities audited by way of “management letters”\n",
      "------------------------------------------------------------------\n",
      "idx: 4\n",
      "Score: 9.635966\n",
      "\n",
      "Document: These are typically \n",
      "the more significant findings in terms of monetary value, frequency of occurrence \n",
      "and impact on accounting\n",
      "------------------------------------------------------------------\n",
      "idx: 5\n",
      "Score: 9.635966\n",
      "\n",
      "Document: These are typically the more significant findings in terms of monetary value, frequency \n",
      "of occurrence and impact on accounting\n",
      "------------------------------------------------------------------\n",
      "idx: 6\n",
      "Score: 9.635966\n",
      "\n",
      "Document: These are \n",
      "typically the more significant findings in terms of monetary value, frequency of \n",
      "occurrence and impact on accounting\n",
      "------------------------------------------------------------------\n",
      "idx: 7\n",
      "Score: 9.049796\n",
      "\n",
      "Document: Audit Observations\n",
      "Main Findings\n",
      "A substantial portion of the audit findings pertains to procurement and contract \n",
      "management, and financial administration\n",
      "------------------------------------------------------------------\n",
      "idx: 8\n",
      "Score: 9.020153\n",
      "\n",
      "Document: AGO recommended that the Ministry introduce measures to ensure that \n",
      "institutions withdraw from PSE accounts only what is needed and that excess \n",
      "withdrawals are refunded promptly to the affected accounts\n",
      "------------------------------------------------------------------\n",
      "idx: 9\n",
      "Score: 8.974164\n",
      "\n",
      "Document: The audit findings in the Report are generally the more significant ones in terms of \n",
      "monetary value, frequency of occurrence or impact on accounting\n",
      "------------------------------------------------------------------\n",
      "idx: 10\n",
      "Score: 8.695764\n",
      "\n",
      "Document: However, AGO is concerned when entities \n",
      "are unable to produce any evidence of what they have represented to AGO as key \n",
      "considerations when decisions were made at the material point in time\n",
      "------------------------------------------------------------------\n",
      "idx: 11\n",
      "Score: 8.6338825\n",
      "\n",
      "Document: IDA administers funding of projects pertaining to Information and \n",
      "Communications Technology development\n",
      "------------------------------------------------------------------\n",
      "idx: 12\n",
      "Score: 8.33847\n",
      "\n",
      "Document: There is a need to consider what would be “fit for purpose” governance mechanisms \n",
      "in an emergency, including what constitutes a reasonable level of accountability and \n",
      "oversight\n",
      "------------------------------------------------------------------\n",
      "idx: 13\n",
      "Score: 8.321035\n",
      "\n",
      "Document: For one JRG project, had the company applied to the \n",
      "other PP which did not comply with WSG’s instructions, it could have obtained a \n",
      "grant amount that was three times of what it was awarded\n",
      "------------------------------------------------------------------\n",
      "idx: 14\n",
      "Score: 8.248636\n",
      "\n",
      "Document: There is therefore a need to consider what would be “fit for purpose” \n",
      "governance mechanisms in an emergency, including what constitutes a reasonable \n",
      "level of accountability and oversight\n",
      "------------------------------------------------------------------\n"
     ]
    }
   ],
   "source": [
    "print(\"Documents indexed.\")\n",
    "\n",
    "# Step 3: Perform Searches Using Elasticsearch\n",
    "# Search query\n",
    "query = \"What are the findings pertaining to grant?\"\n",
    "top_k = 15\n",
    "\n",
    "# Perform BM25 search\n",
    "response = client.search(index='chromadb_documents', body={\n",
    "    'query': {\n",
    "        'match': {\n",
    "            'text': query\n",
    "        }\n",
    "    },\n",
    "    'size': top_k\n",
    "}, http_auth=HTTP_AUTH)\n",
    "\n",
    "# Print search results\n",
    "good_chunks = []\n",
    "for idx, hit in enumerate(response['hits']['hits']):\n",
    "    good_chunk = hit['_source']['text']\n",
    "    score = hit['_score']\n",
    "    print(f\"idx: {idx}\")\n",
    "    print(f\"Score: {score}\\n\")\n",
    "    print(f\"Document: {good_chunk}\")\n",
    "    print(\"------------------------------------------------------------------\")\n",
    "    good_chunks.append(good_chunk)"
   ]
  },
  {
   "cell_type": "code",
   "execution_count": 9,
   "metadata": {},
   "outputs": [
    {
     "data": {
      "text/plain": [
       "{'took': 30,\n",
       " 'timed_out': False,\n",
       " '_shards': {'total': 1, 'successful': 1, 'skipped': 0, 'failed': 0},\n",
       " 'hits': {'total': {'value': 7525, 'relation': 'eq'},\n",
       "  'max_score': 11.637025,\n",
       "  'hits': [{'_index': 'chromadb_documents',\n",
       "    '_id': '5370',\n",
       "    '_score': 11.637025,\n",
       "    '_source': {'text': 'Details of the lapses pertaining to the enforcement of SDL collections are in the \\n \\nfollowing paragraphs'}},\n",
       "   {'_index': 'chromadb_documents',\n",
       "    '_id': '3921',\n",
       "    '_score': 10.4453335,\n",
       "    '_source': {'text': 'Audit findings are conveyed by AGO to the ministries and statutory boards audited \\nby way of “management letters”'}},\n",
       "   {'_index': 'chromadb_documents',\n",
       "    '_id': '7649',\n",
       "    '_score': 10.312286,\n",
       "    '_source': {'text': 'Pertaining to the lack of checks on declarations by grant recipients, EDB \\nexplained that there were specific controls in place to ensure that grant recipients take \\nownership for accurate and credible reporting'}},\n",
       "   {'_index': 'chromadb_documents',\n",
       "    '_id': '6480',\n",
       "    '_score': 10.262637,\n",
       "    '_source': {'text': 'Audit findings are conveyed to the Government ministries, statutory boards and other \\nentities audited by way of “management letters”'}},\n",
       "   {'_index': 'chromadb_documents',\n",
       "    '_id': '2015',\n",
       "    '_score': 9.635966,\n",
       "    '_source': {'text': 'These are typically \\nthe more significant findings in terms of monetary value, frequency of occurrence \\nand impact on accounting'}},\n",
       "   {'_index': 'chromadb_documents',\n",
       "    '_id': '4640',\n",
       "    '_score': 9.635966,\n",
       "    '_source': {'text': 'These are typically the more significant findings in terms of monetary value, frequency \\nof occurrence and impact on accounting'}},\n",
       "   {'_index': 'chromadb_documents',\n",
       "    '_id': '3425',\n",
       "    '_score': 9.635966,\n",
       "    '_source': {'text': 'These are \\ntypically the more significant findings in terms of monetary value, frequency of \\noccurrence and impact on accounting'}},\n",
       "   {'_index': 'chromadb_documents',\n",
       "    '_id': '2025',\n",
       "    '_score': 9.049796,\n",
       "    '_source': {'text': 'Audit Observations\\nMain Findings\\nA substantial portion of the audit findings pertains to procurement and contract \\nmanagement, and financial administration'}},\n",
       "   {'_index': 'chromadb_documents',\n",
       "    '_id': '6564',\n",
       "    '_score': 9.020153,\n",
       "    '_source': {'text': 'AGO recommended that the Ministry introduce measures to ensure that \\ninstitutions withdraw from PSE accounts only what is needed and that excess \\nwithdrawals are refunded promptly to the affected accounts'}},\n",
       "   {'_index': 'chromadb_documents',\n",
       "    '_id': '3925',\n",
       "    '_score': 8.974164,\n",
       "    '_source': {'text': 'The audit findings in the Report are generally the more significant ones in terms of \\nmonetary value, frequency of occurrence or impact on accounting'}},\n",
       "   {'_index': 'chromadb_documents',\n",
       "    '_id': '7724',\n",
       "    '_score': 8.695764,\n",
       "    '_source': {'text': 'However, AGO is concerned when entities \\nare unable to produce any evidence of what they have represented to AGO as key \\nconsiderations when decisions were made at the material point in time'}},\n",
       "   {'_index': 'chromadb_documents',\n",
       "    '_id': '7809',\n",
       "    '_score': 8.6338825,\n",
       "    '_source': {'text': 'IDA administers funding of projects pertaining to Information and \\nCommunications Technology development'}},\n",
       "   {'_index': 'chromadb_documents',\n",
       "    '_id': '5460',\n",
       "    '_score': 8.33847,\n",
       "    '_source': {'text': 'There is a need to consider what would be “fit for purpose” governance mechanisms \\nin an emergency, including what constitutes a reasonable level of accountability and \\noversight'}},\n",
       "   {'_index': 'chromadb_documents',\n",
       "    '_id': '6280',\n",
       "    '_score': 8.321035,\n",
       "    '_source': {'text': 'For one JRG project, had the company applied to the \\nother PP which did not comply with WSG’s instructions, it could have obtained a \\ngrant amount that was three times of what it was awarded'}},\n",
       "   {'_index': 'chromadb_documents',\n",
       "    '_id': '5137',\n",
       "    '_score': 8.248636,\n",
       "    '_source': {'text': 'There is therefore a need to consider what would be “fit for purpose” \\ngovernance mechanisms in an emergency, including what constitutes a reasonable \\nlevel of accountability and oversight'}}]}}"
      ]
     },
     "execution_count": 9,
     "metadata": {},
     "output_type": "execute_result"
    }
   ],
   "source": [
    "response"
   ]
  }
 ],
 "metadata": {
  "kernelspec": {
   "display_name": "rag",
   "language": "python",
   "name": "python3"
  },
  "language_info": {
   "codemirror_mode": {
    "name": "ipython",
    "version": 3
   },
   "file_extension": ".py",
   "mimetype": "text/x-python",
   "name": "python",
   "nbconvert_exporter": "python",
   "pygments_lexer": "ipython3",
   "version": "3.12.2"
  }
 },
 "nbformat": 4,
 "nbformat_minor": 2
}
