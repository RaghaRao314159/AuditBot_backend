{
 "cells": [
  {
   "cell_type": "code",
   "execution_count": 1,
   "metadata": {},
   "outputs": [],
   "source": [
    "import sys\n",
    "import os\n",
    "# Add the parent directory (Auditbot_backend) to the system path\n",
    "sys.path.append(\n",
    "    os.path.abspath(\n",
    "        os.path.join(\n",
    "            os.path.dirname(f\"{os.getcwd()}/preprocessor.ipynb\")\n",
    "            , '..'\n",
    "        )\n",
    "    )\n",
    ")\n",
    "\n",
    "from utils.json_parser import json_file_to_dict\n",
    "from utils.initialisations import save_inverted_tree_path, chunks_path\n",
    "\n",
    "# define helper function\n",
    "def retrieve_metadata(chunk, inverted_tree):\n",
    "    return inverted_tree[chunk]"
   ]
  },
  {
   "cell_type": "code",
   "execution_count": 2,
   "metadata": {},
   "outputs": [
    {
     "name": "stdout",
     "output_type": "stream",
     "text": [
      "Number of total chunks (including repetitons): 9127\n",
      "Number of unique chunks: 8210\n"
     ]
    }
   ],
   "source": [
    "# load all chunks\n",
    "all_chunks = json_file_to_dict(chunks_path)[\"chunks\"]\n",
    "print(\"Number of total chunks (including repetitons):\", len(all_chunks))\n",
    "\n",
    "# load iinverted tree\n",
    "inverted_tree = json_file_to_dict(save_inverted_tree_path)\n",
    "unique_chunks = list(inverted_tree.keys())\n",
    "print(\"Number of unique chunks:\", len(unique_chunks))"
   ]
  },
  {
   "cell_type": "code",
   "execution_count": 3,
   "metadata": {},
   "outputs": [
    {
     "name": "stdout",
     "output_type": "stream",
     "text": [
      "Retrieving metadata for a chunk:\n",
      "\n",
      "Example chunk:\n",
      " MINISTRY  OF  CULTURE,  COMMUNITY  AND  YOUTH\n",
      "Fabrication of Documents for Audit and Weaknesses in Controls over \n",
      "Claim Processing\n",
      "7\n"
     ]
    },
    {
     "data": {
      "text/plain": [
       "{'year': '2020_21',\n",
       " 'location': ['CONTENTS',\n",
       "  'PART I B : AUDIT OF GOVERNMENT MINISTRIES, ORGANS OF STATE AND GOVERNMENT FUNDS',\n",
       "  'MINISTRY OF CULTURE, COMMUNITY AND YOUTH',\n",
       "  'Fabrication of Documents for Audit and Weaknesses in Controls over Claim Processing'],\n",
       " 'page': 14}"
      ]
     },
     "execution_count": 3,
     "metadata": {},
     "output_type": "execute_result"
    }
   ],
   "source": [
    "print(\"Retrieving metadata for a chunk:\\n\")\n",
    "print(\"Example chunk:\\n\", unique_chunks[455])\n",
    "retrieve_metadata(unique_chunks[455], inverted_tree)"
   ]
  }
 ],
 "metadata": {
  "kernelspec": {
   "display_name": "rag",
   "language": "python",
   "name": "python3"
  },
  "language_info": {
   "codemirror_mode": {
    "name": "ipython",
    "version": 3
   },
   "file_extension": ".py",
   "mimetype": "text/x-python",
   "name": "python",
   "nbconvert_exporter": "python",
   "pygments_lexer": "ipython3",
   "version": "3.12.2"
  }
 },
 "nbformat": 4,
 "nbformat_minor": 2
}
